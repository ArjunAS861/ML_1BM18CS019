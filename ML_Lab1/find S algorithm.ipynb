{
 "cells": [
  {
   "cell_type": "code",
   "execution_count": 1,
   "metadata": {},
   "outputs": [
    {
     "name": "stdout",
     "output_type": "stream",
     "text": [
      "  Weather Humidity Goes\n",
      "0   Rainy   Normal  yes\n",
      "1   Sunny   Normal  yes\n",
      "2  Cloudy   Normal   No\n",
      "The attributes are : \n",
      "[['Rainy' 'Normal']\n",
      " ['Sunny' 'Normal']\n",
      " ['Cloudy' 'Normal']]\n",
      "The target is : \n",
      "['yes' 'yes' 'No']\n"
     ]
    }
   ],
   "source": [
    "#Program to implement find S algorithm\n",
    "\n",
    "#most general hypothesis [?,?,?]\n",
    "\n",
    "import pandas as pd\n",
    "import numpy as np\n",
    "\n",
    "\n",
    "data=pd.read_csv(\"data.csv\")\n",
    "print(data)\n",
    "H=np.array(data)[:,:-1]\n",
    "t=np.array(data)[:,-1]\n",
    "print(\"The attributes are : \")\n",
    "print(H)\n",
    "print(\"The target is : \")\n",
    "print(t)"
   ]
  },
  {
   "cell_type": "code",
   "execution_count": 2,
   "metadata": {},
   "outputs": [
    {
     "name": "stdout",
     "output_type": "stream",
     "text": [
      "The Hypothesis is : \n",
      "['?', 'Normal']\n"
     ]
    }
   ],
   "source": [
    "h=[\"*\",\"*\"] #most specific hypothesis\n",
    "#H=[[\"rainy\",\"Normal\"],[\"sunny\",\"Normal\"],[\"cloudy\",\"Normal\"]] #data set \n",
    "#t=[\"yes\",\"yes\",\"no\"] #values for dataset\n",
    "def training_example(H,t):\n",
    "    for z,x in list(enumerate(H)):\n",
    "        if t[z]==\"yes\":\n",
    "            for i in range(len(x)):\n",
    "                if h[i]==\"*\" and x[i]:\n",
    "                    h[i]=x[i]\n",
    "                elif h[i]!= x[i] and h[i]!=\"?\":\n",
    "                        h[i]=\"?\"\n",
    "                        \n",
    "    return h\n",
    "\n",
    "                        \n",
    "          \n",
    "print(\"The Hypothesis is : \")\n",
    "print(training_example(H,t))                \n",
    "                    \n",
    "                \n",
    "    \n"
   ]
  },
  {
   "cell_type": "code",
   "execution_count": null,
   "metadata": {},
   "outputs": [],
   "source": []
  }
 ],
 "metadata": {
  "kernelspec": {
   "display_name": "Python 3",
   "language": "python",
   "name": "python3"
  },
  "language_info": {
   "codemirror_mode": {
    "name": "ipython",
    "version": 3
   },
   "file_extension": ".py",
   "mimetype": "text/x-python",
   "name": "python",
   "nbconvert_exporter": "python",
   "pygments_lexer": "ipython3",
   "version": "3.7.0"
  }
 },
 "nbformat": 4,
 "nbformat_minor": 2
}
